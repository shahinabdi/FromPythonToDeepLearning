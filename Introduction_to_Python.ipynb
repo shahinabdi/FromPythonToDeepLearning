{
 "cells": [
  {
   "cell_type": "markdown",
   "id": "75ba6be4",
   "metadata": {},
   "source": [
    "<a id='home'></a>\n",
    "\n",
    "# From Python to DeepLearning\n",
    "\n",
    "### Here is the structure of this course\n",
    "\n",
    "[1.Introduction to Python](#intro)<br>\n",
    "- [1.1 Variables](#variables)<br>\n",
    " - [1.1.1 Primitive Types](#primitive_types)<br>\n",
    " - [1.1.2 Variable Names](#variable_names)<br>\n",
    " - [1.1.3 Strings](#strings)<br>\n",
    " - [1.1.4 Escape Sequences](#es)<br>\n",
    " - [1.1.5 Formatted Strings](#formatted_str)<br>\n",
    " - [1.1.6 String Methods](#str_methods)<br>\n",
    " - [1.1.7 Numbers](#numbers)<br>\n",
    " - [1.1.7 Type Conversion](#types)<br>\n",
    " "
   ]
  },
  {
   "cell_type": "markdown",
   "id": "1b412b03",
   "metadata": {},
   "source": [
    "<a id='intro'></a>\n",
    "\n",
    "# 1. Introduction to Python [Top](#home)"
   ]
  },
  {
   "cell_type": "code",
   "execution_count": null,
   "id": "368a9f4e",
   "metadata": {},
   "outputs": [],
   "source": [
    "print(\"Welcome to the Python course\")"
   ]
  },
  {
   "cell_type": "markdown",
   "id": "9adb2d7e",
   "metadata": {},
   "source": [
    "<a id='variables'></a>\n",
    "\n",
    "## Variables [Top](#home)"
   ]
  },
  {
   "cell_type": "code",
   "execution_count": null,
   "id": "03050174",
   "metadata": {},
   "outputs": [],
   "source": [
    "number_of_people = 1000\n",
    "print(number_of_people)"
   ]
  },
  {
   "cell_type": "markdown",
   "id": "a4e7b1f6",
   "metadata": {},
   "source": [
    "<a id='primitive_types'></a>\n",
    "\n",
    "### Primitive Types [Top](#home)"
   ]
  },
  {
   "cell_type": "code",
   "execution_count": null,
   "id": "691e5b6c",
   "metadata": {},
   "outputs": [],
   "source": [
    "# Interger \n",
    "number_of_candidates = 1000\n",
    "#Float\n",
    "point = 30.4\n",
    "#Boolean\n",
    "is_accepted = True #True or False\n",
    "#String\n",
    "course_name = \"Physics\""
   ]
  },
  {
   "cell_type": "markdown",
   "id": "875b5b96",
   "metadata": {},
   "source": [
    "<a id='variable_names'></a>\n",
    "\n",
    "### Variable Names [Top](#home)"
   ]
  },
  {
   "cell_type": "code",
   "execution_count": null,
   "id": "2ea6b0db",
   "metadata": {},
   "outputs": [],
   "source": [
    "# Variables name should be descriptif and meaningful\n",
    "number_of_candidates = 945\n",
    "# it's a good practice to use LowerCase\n",
    "is_accepted = True\n",
    "# Beautify your codes \n",
    "course_name=\"Math\" #This is not wrong but not beautiful \n",
    "course_name = \"Math\""
   ]
  },
  {
   "cell_type": "markdown",
   "id": "cff68340",
   "metadata": {},
   "source": [
    "<a id='strings'></a>\n",
    "\n",
    "### Strings [Top](#home)"
   ]
  },
  {
   "cell_type": "code",
   "execution_count": null,
   "id": "fb0280d3",
   "metadata": {},
   "outputs": [],
   "source": [
    "course = 'Physics'\n",
    "level = \"Master\"\n",
    "message = \"\"\"\n",
    "Hi, \n",
    "This is an example of multiline code in python\n",
    "\n",
    "Regards\n",
    "\"\"\""
   ]
  },
  {
   "cell_type": "code",
   "execution_count": null,
   "id": "436d1c9d",
   "metadata": {},
   "outputs": [],
   "source": [
    "len(course)"
   ]
  },
  {
   "cell_type": "code",
   "execution_count": null,
   "id": "9ffc08c8",
   "metadata": {},
   "outputs": [],
   "source": [
    "print(len(course))"
   ]
  },
  {
   "cell_type": "code",
   "execution_count": null,
   "id": "d7e8013f",
   "metadata": {},
   "outputs": [],
   "source": [
    "print(course[0])"
   ]
  },
  {
   "cell_type": "code",
   "execution_count": null,
   "id": "6c5dd4eb",
   "metadata": {},
   "outputs": [],
   "source": [
    "print(course[-1])"
   ]
  },
  {
   "cell_type": "code",
   "execution_count": null,
   "id": "957aedcc",
   "metadata": {},
   "outputs": [],
   "source": [
    "print(course[2:6])"
   ]
  },
  {
   "cell_type": "code",
   "execution_count": null,
   "id": "a870531f",
   "metadata": {},
   "outputs": [],
   "source": [
    "print(course[::2])"
   ]
  },
  {
   "cell_type": "code",
   "execution_count": null,
   "id": "ef504306",
   "metadata": {},
   "outputs": [],
   "source": [
    "print(course[::-1])"
   ]
  },
  {
   "cell_type": "code",
   "execution_count": null,
   "id": "a394bc8d",
   "metadata": {},
   "outputs": [],
   "source": [
    "print(course[:])"
   ]
  },
  {
   "cell_type": "code",
   "execution_count": null,
   "id": "3b5b8eb4",
   "metadata": {},
   "outputs": [],
   "source": [
    "print(course[2:])"
   ]
  },
  {
   "cell_type": "code",
   "execution_count": null,
   "id": "fd792b84",
   "metadata": {},
   "outputs": [],
   "source": [
    "print(course[:3])"
   ]
  },
  {
   "cell_type": "markdown",
   "id": "4b3364bd",
   "metadata": {},
   "source": [
    "<a id='es'></a>\n",
    "\n",
    "### Escape Sequences [Top](#home)"
   ]
  },
  {
   "cell_type": "code",
   "execution_count": null,
   "id": "d320de77",
   "metadata": {},
   "outputs": [],
   "source": [
    "# \\\"\n",
    "# \\'\n",
    "# \\\\\n",
    "# \\n\n",
    "course = \"Applied Physics \\\"Atomic and molecular\\\"\""
   ]
  },
  {
   "cell_type": "markdown",
   "id": "415efccc",
   "metadata": {},
   "source": [
    "<a id='formatted_str'></a>\n",
    "\n",
    "### Formatted Strings[Top](#home)\n"
   ]
  },
  {
   "cell_type": "code",
   "execution_count": null,
   "id": "0cfd114e",
   "metadata": {},
   "outputs": [],
   "source": [
    "first_name = \"Shahin\"\n",
    "last_name = \"ABDI\"\n",
    "full_name = first_name + ' ' + last_name"
   ]
  },
  {
   "cell_type": "code",
   "execution_count": null,
   "id": "3797fdd2",
   "metadata": {},
   "outputs": [],
   "source": [
    "full_name"
   ]
  },
  {
   "cell_type": "code",
   "execution_count": null,
   "id": "63d4af1d",
   "metadata": {},
   "outputs": [],
   "source": [
    "new_full_name=f\"{first_name} {last_name}\""
   ]
  },
  {
   "cell_type": "code",
   "execution_count": null,
   "id": "18375240",
   "metadata": {},
   "outputs": [],
   "source": [
    "new_full_name"
   ]
  },
  {
   "cell_type": "markdown",
   "id": "c0f1b468",
   "metadata": {},
   "source": [
    "<a id='str_methods'></a>\n",
    "\n",
    "### String Methods[Top](#home)\n"
   ]
  },
  {
   "cell_type": "code",
   "execution_count": null,
   "id": "c39faedd",
   "metadata": {},
   "outputs": [],
   "source": [
    "example_string = 'python is a best programming language for data science'"
   ]
  },
  {
   "cell_type": "code",
   "execution_count": null,
   "id": "10565e05",
   "metadata": {},
   "outputs": [],
   "source": [
    "print(example_string.upper())"
   ]
  },
  {
   "cell_type": "code",
   "execution_count": null,
   "id": "21906f29",
   "metadata": {},
   "outputs": [],
   "source": [
    "print(example_string.lower())"
   ]
  },
  {
   "cell_type": "code",
   "execution_count": null,
   "id": "f63d1a5f",
   "metadata": {},
   "outputs": [],
   "source": [
    "print(example_string.title())"
   ]
  },
  {
   "cell_type": "code",
   "execution_count": null,
   "id": "d1de1a58",
   "metadata": {},
   "outputs": [],
   "source": [
    "#Triming \n",
    "first_name = \" Shahin \""
   ]
  },
  {
   "cell_type": "code",
   "execution_count": null,
   "id": "c9d5ecf8",
   "metadata": {},
   "outputs": [],
   "source": [
    "print(first_name.strip())"
   ]
  },
  {
   "cell_type": "code",
   "execution_count": null,
   "id": "be51cb2e",
   "metadata": {},
   "outputs": [],
   "source": [
    "print(first_name.lstrip())"
   ]
  },
  {
   "cell_type": "code",
   "execution_count": null,
   "id": "8a46eada",
   "metadata": {},
   "outputs": [],
   "source": [
    "print(first_name.rstrip())"
   ]
  },
  {
   "cell_type": "code",
   "execution_count": null,
   "id": "fb893c08",
   "metadata": {},
   "outputs": [],
   "source": [
    "print(example_string.find('data')) #Find index of string"
   ]
  },
  {
   "cell_type": "code",
   "execution_count": null,
   "id": "5f873461",
   "metadata": {},
   "outputs": [],
   "source": [
    "print(example_string)"
   ]
  },
  {
   "cell_type": "code",
   "execution_count": null,
   "id": "0880df8c",
   "metadata": {},
   "outputs": [],
   "source": [
    "print(example_string.replace('p', 'P'))"
   ]
  },
  {
   "cell_type": "code",
   "execution_count": null,
   "id": "3404e096",
   "metadata": {},
   "outputs": [],
   "source": [
    "print(\"python\" in example_string)"
   ]
  },
  {
   "cell_type": "code",
   "execution_count": null,
   "id": "ccf46132",
   "metadata": {},
   "outputs": [],
   "source": [
    "print(\"java\" not in example_string)"
   ]
  },
  {
   "cell_type": "markdown",
   "id": "e5176992",
   "metadata": {},
   "source": [
    "<a id='numbers'></a>\n",
    "\n",
    "### Numbers [Top](#home)"
   ]
  },
  {
   "cell_type": "code",
   "execution_count": null,
   "id": "aa1371a1",
   "metadata": {},
   "outputs": [],
   "source": [
    "# Integer\n",
    "x = 1 \n",
    "# Float\n",
    "x = 2.1\n",
    "# Complex number\n",
    "x = 1 + 2j"
   ]
  },
  {
   "cell_type": "code",
   "execution_count": null,
   "id": "844785f8",
   "metadata": {
    "scrolled": true
   },
   "outputs": [],
   "source": [
    "print(type(x))"
   ]
  },
  {
   "cell_type": "code",
   "execution_count": null,
   "id": "36160b90",
   "metadata": {},
   "outputs": [],
   "source": [
    "print(10 + 3)\n",
    "print(10 - 3)\n",
    "print(10 * 3)\n",
    "print(10 / 3)\n",
    "print(10 // 3)\n",
    "print(10 % 3)\n",
    "print(10 ** 3)"
   ]
  },
  {
   "cell_type": "code",
   "execution_count": null,
   "id": "c282c9e2",
   "metadata": {},
   "outputs": [],
   "source": [
    "# Augumented Assigned Operators\n",
    "\n",
    "x = 3 "
   ]
  },
  {
   "cell_type": "code",
   "execution_count": null,
   "id": "fa3057ec",
   "metadata": {},
   "outputs": [],
   "source": [
    "x = x + 3 "
   ]
  },
  {
   "cell_type": "code",
   "execution_count": null,
   "id": "9158f857",
   "metadata": {},
   "outputs": [],
   "source": [
    "x"
   ]
  },
  {
   "cell_type": "code",
   "execution_count": null,
   "id": "58f8fdfb",
   "metadata": {},
   "outputs": [],
   "source": [
    "x += 3"
   ]
  },
  {
   "cell_type": "code",
   "execution_count": null,
   "id": "61eb8937",
   "metadata": {},
   "outputs": [],
   "source": [
    "x"
   ]
  },
  {
   "cell_type": "code",
   "execution_count": null,
   "id": "c8d027b6",
   "metadata": {},
   "outputs": [],
   "source": [
    "x **=3"
   ]
  },
  {
   "cell_type": "code",
   "execution_count": null,
   "id": "6db089f5",
   "metadata": {},
   "outputs": [],
   "source": [
    "x"
   ]
  },
  {
   "cell_type": "code",
   "execution_count": null,
   "id": "af3eb50f",
   "metadata": {},
   "outputs": [],
   "source": [
    "print(round(2.9))"
   ]
  },
  {
   "cell_type": "code",
   "execution_count": null,
   "id": "ac9e148a",
   "metadata": {},
   "outputs": [],
   "source": [
    "print(round(2.91354,2))"
   ]
  },
  {
   "cell_type": "code",
   "execution_count": null,
   "id": "0b50cf51",
   "metadata": {},
   "outputs": [],
   "source": [
    "print(abs(-3.5))"
   ]
  },
  {
   "cell_type": "code",
   "execution_count": null,
   "id": "458a636d",
   "metadata": {},
   "outputs": [],
   "source": [
    "import math"
   ]
  },
  {
   "cell_type": "code",
   "execution_count": null,
   "id": "f9ea8167",
   "metadata": {},
   "outputs": [],
   "source": [
    "math.ceil(2.1)"
   ]
  },
  {
   "cell_type": "markdown",
   "id": "1d12fc7a",
   "metadata": {},
   "source": [
    "<a id='types'></a>\n",
    "\n",
    "### Type Conversion [Top](#home)"
   ]
  },
  {
   "cell_type": "code",
   "execution_count": null,
   "id": "0c17e781",
   "metadata": {},
   "outputs": [],
   "source": [
    "x = input(\"Enter a number : \")"
   ]
  },
  {
   "cell_type": "code",
   "execution_count": null,
   "id": "0673f134",
   "metadata": {},
   "outputs": [],
   "source": [
    "print(x + 2)"
   ]
  },
  {
   "cell_type": "code",
   "execution_count": null,
   "id": "306ce3f2",
   "metadata": {},
   "outputs": [],
   "source": [
    "x = int(input(\"Enter a number : \"))"
   ]
  },
  {
   "cell_type": "code",
   "execution_count": null,
   "id": "c01d4500",
   "metadata": {},
   "outputs": [],
   "source": [
    "print(x + 2)"
   ]
  },
  {
   "cell_type": "code",
   "execution_count": null,
   "id": "ee65a713",
   "metadata": {},
   "outputs": [],
   "source": [
    "# int()\n",
    "# float()\n",
    "# bool()\n",
    "# str()"
   ]
  }
 ],
 "metadata": {
  "kernelspec": {
   "display_name": "Python 3",
   "language": "python",
   "name": "python3"
  },
  "language_info": {
   "codemirror_mode": {
    "name": "ipython",
    "version": 3
   },
   "file_extension": ".py",
   "mimetype": "text/x-python",
   "name": "python",
   "nbconvert_exporter": "python",
   "pygments_lexer": "ipython3",
   "version": "3.8.8"
  }
 },
 "nbformat": 4,
 "nbformat_minor": 5
}
