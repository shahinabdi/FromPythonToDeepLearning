{
 "cells": [
  {
   "cell_type": "markdown",
   "id": "75ba6be4",
   "metadata": {},
   "source": [
    "<a id='home'></a>\n",
    "\n",
    "# From Python to DeepLearning\n",
    "\n",
    "### Here is the structure of this course\n",
    "\n",
    "[1.Introduction to Python](#intro)<br>\n",
    "- [1.1 Variables](#variables)<br>\n",
    " - [1.1.1 Primitive Types](#primitive_types)<br>\n",
    " - [1.1.2 Variable Names](#variable_names)<br>\n",
    " - [1.1.3 Strings](#strings)<br>\n",
    " - [1.1.4 Escape Sequences](#es)<br>\n",
    " - [1.1.5 Formatted Strings](#formatted_str)<br>\n",
    " - [1.1.6 String Methods](#str_methods)<br>\n",
    " - [1.1.7 Numbers](#numbers)<br>\n",
    " - [1.1.7 Type Conversion](#types)<br>\n",
    "- [1.2 Control Flow](#cFlow)<br>\n",
    " - [1.2.1 Comparison Operators](#comp_oper)<br>\n",
    " - [1.2.2 Conditional Statements](#conditional_state)<br>\n",
    " - [1.2.3 Ternary Operator](#ternary_op)<br>\n",
    " - [1.2.4 Logical Operators](#logical_op)<br>\n",
    " - [1.2.4 For Loops](#for_loop)<br>\n",
    " - [1.2.5 Iterables](#iter)<br>\n",
    " - [1.2.6 While loops](#while_loop)<br>\n",
    "- [1.3 Functions](#Functions)<br>\n",
    " - [1.3.1 Defining Functions](#def_function)<br>\n",
    " - [1.3.2 xargs in Functions](#xargs)<br>\n",
    " - [1.3.2 xxargs in Functions](#xxargs)<br>\n",
    "- [1.4 Data Structures](#data_structures)<br>\n",
    " - [1.4.1 Lists](#Lists)<br>\n",
    " - [1.4.2 Tuples](#Tuples)<br>\n",
    " - [1.4.3 Sets](#Sets)<br>\n",
    " - [1.4.3 Dictionaries](#Dictionaries)<br>"
   ]
  },
  {
   "cell_type": "markdown",
   "id": "1b412b03",
   "metadata": {},
   "source": [
    "<a id='intro'></a>\n",
    "\n",
    "# 1. Introduction to Python [Top](#home)"
   ]
  },
  {
   "cell_type": "code",
   "execution_count": null,
   "id": "368a9f4e",
   "metadata": {},
   "outputs": [],
   "source": [
    "print(\"Welcome to the Python course\")"
   ]
  },
  {
   "cell_type": "markdown",
   "id": "9adb2d7e",
   "metadata": {},
   "source": [
    "<a id='variables'></a>\n",
    "\n",
    "## Variables [Top](#home)"
   ]
  },
  {
   "cell_type": "code",
   "execution_count": null,
   "id": "03050174",
   "metadata": {},
   "outputs": [],
   "source": [
    "number_of_people = 1000\n",
    "print(number_of_people)"
   ]
  },
  {
   "cell_type": "markdown",
   "id": "a4e7b1f6",
   "metadata": {},
   "source": [
    "<a id='primitive_types'></a>\n",
    "\n",
    "### Primitive Types [Top](#home)"
   ]
  },
  {
   "cell_type": "code",
   "execution_count": null,
   "id": "691e5b6c",
   "metadata": {},
   "outputs": [],
   "source": [
    "# Interger \n",
    "number_of_candidates = 1000\n",
    "#Float\n",
    "point = 30.4\n",
    "#Boolean\n",
    "is_accepted = True #True or False\n",
    "#String\n",
    "course_name = \"Physics\""
   ]
  },
  {
   "cell_type": "markdown",
   "id": "875b5b96",
   "metadata": {},
   "source": [
    "<a id='variable_names'></a>\n",
    "\n",
    "### Variable Names [Top](#home)"
   ]
  },
  {
   "cell_type": "code",
   "execution_count": null,
   "id": "2ea6b0db",
   "metadata": {},
   "outputs": [],
   "source": [
    "# Variables name should be descriptif and meaningful\n",
    "number_of_candidates = 945\n",
    "# it's a good practice to use LowerCase\n",
    "is_accepted = True\n",
    "# Beautify your codes \n",
    "course_name=\"Math\" #This is not wrong but not beautiful \n",
    "course_name = \"Math\""
   ]
  },
  {
   "cell_type": "markdown",
   "id": "cff68340",
   "metadata": {},
   "source": [
    "<a id='strings'></a>\n",
    "\n",
    "### Strings [Top](#home)"
   ]
  },
  {
   "cell_type": "code",
   "execution_count": null,
   "id": "fb0280d3",
   "metadata": {},
   "outputs": [],
   "source": [
    "course = 'Physics'\n",
    "level = \"Master\"\n",
    "message = \"\"\"\n",
    "Hi, \n",
    "This is an example of multiline code in python\n",
    "\n",
    "Regards\n",
    "\"\"\""
   ]
  },
  {
   "cell_type": "code",
   "execution_count": null,
   "id": "436d1c9d",
   "metadata": {},
   "outputs": [],
   "source": [
    "len(course)"
   ]
  },
  {
   "cell_type": "code",
   "execution_count": null,
   "id": "9ffc08c8",
   "metadata": {},
   "outputs": [],
   "source": [
    "print(len(course))"
   ]
  },
  {
   "cell_type": "code",
   "execution_count": null,
   "id": "d7e8013f",
   "metadata": {},
   "outputs": [],
   "source": [
    "print(course[0])"
   ]
  },
  {
   "cell_type": "code",
   "execution_count": null,
   "id": "6c5dd4eb",
   "metadata": {},
   "outputs": [],
   "source": [
    "print(course[-1])"
   ]
  },
  {
   "cell_type": "code",
   "execution_count": null,
   "id": "957aedcc",
   "metadata": {},
   "outputs": [],
   "source": [
    "print(course[2:6])"
   ]
  },
  {
   "cell_type": "code",
   "execution_count": null,
   "id": "a870531f",
   "metadata": {},
   "outputs": [],
   "source": [
    "print(course[::2])"
   ]
  },
  {
   "cell_type": "code",
   "execution_count": null,
   "id": "ef504306",
   "metadata": {},
   "outputs": [],
   "source": [
    "print(course[::-1])"
   ]
  },
  {
   "cell_type": "code",
   "execution_count": null,
   "id": "a394bc8d",
   "metadata": {},
   "outputs": [],
   "source": [
    "print(course[:])"
   ]
  },
  {
   "cell_type": "code",
   "execution_count": null,
   "id": "3b5b8eb4",
   "metadata": {},
   "outputs": [],
   "source": [
    "print(course[2:])"
   ]
  },
  {
   "cell_type": "code",
   "execution_count": null,
   "id": "fd792b84",
   "metadata": {},
   "outputs": [],
   "source": [
    "print(course[:3])"
   ]
  },
  {
   "cell_type": "markdown",
   "id": "4b3364bd",
   "metadata": {},
   "source": [
    "<a id='es'></a>\n",
    "\n",
    "### Escape Sequences [Top](#home)"
   ]
  },
  {
   "cell_type": "code",
   "execution_count": null,
   "id": "d320de77",
   "metadata": {},
   "outputs": [],
   "source": [
    "# \\\"\n",
    "# \\'\n",
    "# \\\\\n",
    "# \\n\n",
    "course = \"Applied Physics \\\"Atomic and molecular\\\"\""
   ]
  },
  {
   "cell_type": "markdown",
   "id": "415efccc",
   "metadata": {},
   "source": [
    "<a id='formatted_str'></a>\n",
    "\n",
    "### Formatted Strings[Top](#home)\n"
   ]
  },
  {
   "cell_type": "code",
   "execution_count": null,
   "id": "0cfd114e",
   "metadata": {},
   "outputs": [],
   "source": [
    "first_name = \"Shahin\"\n",
    "last_name = \"ABDI\"\n",
    "full_name = first_name + ' ' + last_name"
   ]
  },
  {
   "cell_type": "code",
   "execution_count": null,
   "id": "3797fdd2",
   "metadata": {},
   "outputs": [],
   "source": [
    "full_name"
   ]
  },
  {
   "cell_type": "code",
   "execution_count": null,
   "id": "63d4af1d",
   "metadata": {},
   "outputs": [],
   "source": [
    "new_full_name=f\"{first_name} {last_name}\""
   ]
  },
  {
   "cell_type": "code",
   "execution_count": null,
   "id": "18375240",
   "metadata": {},
   "outputs": [],
   "source": [
    "new_full_name"
   ]
  },
  {
   "cell_type": "markdown",
   "id": "c0f1b468",
   "metadata": {},
   "source": [
    "<a id='str_methods'></a>\n",
    "\n",
    "### String Methods[Top](#home)\n"
   ]
  },
  {
   "cell_type": "code",
   "execution_count": null,
   "id": "c39faedd",
   "metadata": {},
   "outputs": [],
   "source": [
    "example_string = 'python is a best programming language for data science'"
   ]
  },
  {
   "cell_type": "code",
   "execution_count": null,
   "id": "10565e05",
   "metadata": {},
   "outputs": [],
   "source": [
    "print(example_string.upper())"
   ]
  },
  {
   "cell_type": "code",
   "execution_count": null,
   "id": "21906f29",
   "metadata": {},
   "outputs": [],
   "source": [
    "print(example_string.lower())"
   ]
  },
  {
   "cell_type": "code",
   "execution_count": null,
   "id": "f63d1a5f",
   "metadata": {},
   "outputs": [],
   "source": [
    "print(example_string.title())"
   ]
  },
  {
   "cell_type": "code",
   "execution_count": null,
   "id": "d1de1a58",
   "metadata": {},
   "outputs": [],
   "source": [
    "#Triming \n",
    "first_name = \" Shahin \""
   ]
  },
  {
   "cell_type": "code",
   "execution_count": null,
   "id": "c9d5ecf8",
   "metadata": {},
   "outputs": [],
   "source": [
    "print(first_name.strip())"
   ]
  },
  {
   "cell_type": "code",
   "execution_count": null,
   "id": "be51cb2e",
   "metadata": {},
   "outputs": [],
   "source": [
    "print(first_name.lstrip())"
   ]
  },
  {
   "cell_type": "code",
   "execution_count": null,
   "id": "8a46eada",
   "metadata": {},
   "outputs": [],
   "source": [
    "print(first_name.rstrip())"
   ]
  },
  {
   "cell_type": "code",
   "execution_count": null,
   "id": "fb893c08",
   "metadata": {},
   "outputs": [],
   "source": [
    "print(example_string.find('data')) #Find index of string"
   ]
  },
  {
   "cell_type": "code",
   "execution_count": null,
   "id": "5f873461",
   "metadata": {},
   "outputs": [],
   "source": [
    "print(example_string)"
   ]
  },
  {
   "cell_type": "code",
   "execution_count": null,
   "id": "0880df8c",
   "metadata": {},
   "outputs": [],
   "source": [
    "print(example_string.replace('p', 'P'))"
   ]
  },
  {
   "cell_type": "code",
   "execution_count": null,
   "id": "3404e096",
   "metadata": {},
   "outputs": [],
   "source": [
    "print(\"python\" in example_string)"
   ]
  },
  {
   "cell_type": "code",
   "execution_count": null,
   "id": "ccf46132",
   "metadata": {},
   "outputs": [],
   "source": [
    "print(\"java\" not in example_string)"
   ]
  },
  {
   "cell_type": "markdown",
   "id": "e5176992",
   "metadata": {},
   "source": [
    "<a id='numbers'></a>\n",
    "\n",
    "### Numbers [Top](#home)"
   ]
  },
  {
   "cell_type": "code",
   "execution_count": null,
   "id": "aa1371a1",
   "metadata": {},
   "outputs": [],
   "source": [
    "# Integer\n",
    "x = 1 \n",
    "# Float\n",
    "x = 2.1\n",
    "# Complex number\n",
    "x = 1 + 2j"
   ]
  },
  {
   "cell_type": "code",
   "execution_count": null,
   "id": "844785f8",
   "metadata": {
    "scrolled": true
   },
   "outputs": [],
   "source": [
    "print(type(x))"
   ]
  },
  {
   "cell_type": "code",
   "execution_count": null,
   "id": "36160b90",
   "metadata": {},
   "outputs": [],
   "source": [
    "print(10 + 3)\n",
    "print(10 - 3)\n",
    "print(10 * 3)\n",
    "print(10 / 3)\n",
    "print(10 // 3)\n",
    "print(10 % 3)\n",
    "print(10 ** 3)"
   ]
  },
  {
   "cell_type": "code",
   "execution_count": null,
   "id": "c282c9e2",
   "metadata": {},
   "outputs": [],
   "source": [
    "# Augumented Assigned Operators\n",
    "\n",
    "x = 3 "
   ]
  },
  {
   "cell_type": "code",
   "execution_count": null,
   "id": "fa3057ec",
   "metadata": {},
   "outputs": [],
   "source": [
    "x = x + 3 "
   ]
  },
  {
   "cell_type": "code",
   "execution_count": null,
   "id": "9158f857",
   "metadata": {},
   "outputs": [],
   "source": [
    "x"
   ]
  },
  {
   "cell_type": "code",
   "execution_count": null,
   "id": "58f8fdfb",
   "metadata": {},
   "outputs": [],
   "source": [
    "x += 3"
   ]
  },
  {
   "cell_type": "code",
   "execution_count": null,
   "id": "61eb8937",
   "metadata": {},
   "outputs": [],
   "source": [
    "x"
   ]
  },
  {
   "cell_type": "code",
   "execution_count": null,
   "id": "c8d027b6",
   "metadata": {},
   "outputs": [],
   "source": [
    "x **=3"
   ]
  },
  {
   "cell_type": "code",
   "execution_count": null,
   "id": "6db089f5",
   "metadata": {},
   "outputs": [],
   "source": [
    "x"
   ]
  },
  {
   "cell_type": "code",
   "execution_count": null,
   "id": "af3eb50f",
   "metadata": {},
   "outputs": [],
   "source": [
    "print(round(2.9))"
   ]
  },
  {
   "cell_type": "code",
   "execution_count": null,
   "id": "ac9e148a",
   "metadata": {},
   "outputs": [],
   "source": [
    "print(round(2.91354,2))"
   ]
  },
  {
   "cell_type": "code",
   "execution_count": null,
   "id": "0b50cf51",
   "metadata": {},
   "outputs": [],
   "source": [
    "print(abs(-3.5))"
   ]
  },
  {
   "cell_type": "code",
   "execution_count": null,
   "id": "458a636d",
   "metadata": {},
   "outputs": [],
   "source": [
    "import math"
   ]
  },
  {
   "cell_type": "code",
   "execution_count": null,
   "id": "f9ea8167",
   "metadata": {},
   "outputs": [],
   "source": [
    "math.ceil(2.1)"
   ]
  },
  {
   "cell_type": "markdown",
   "id": "1d12fc7a",
   "metadata": {},
   "source": [
    "<a id='types'></a>\n",
    "\n",
    "### Type Conversion [Top](#home)"
   ]
  },
  {
   "cell_type": "code",
   "execution_count": null,
   "id": "0c17e781",
   "metadata": {},
   "outputs": [],
   "source": [
    "x = input(\"Enter a number : \")"
   ]
  },
  {
   "cell_type": "code",
   "execution_count": null,
   "id": "0673f134",
   "metadata": {},
   "outputs": [],
   "source": [
    "print(x + 2)"
   ]
  },
  {
   "cell_type": "code",
   "execution_count": null,
   "id": "306ce3f2",
   "metadata": {},
   "outputs": [],
   "source": [
    "x = int(input(\"Enter a number : \"))"
   ]
  },
  {
   "cell_type": "code",
   "execution_count": null,
   "id": "c01d4500",
   "metadata": {},
   "outputs": [],
   "source": [
    "print(x + 2)"
   ]
  },
  {
   "cell_type": "code",
   "execution_count": null,
   "id": "ee65a713",
   "metadata": {},
   "outputs": [],
   "source": [
    "# int()\n",
    "# float()\n",
    "# bool()\n",
    "# str()"
   ]
  },
  {
   "cell_type": "markdown",
   "id": "d22ccca3",
   "metadata": {},
   "source": [
    "<a id='cFlow'></a>\n",
    "\n",
    "## Control Flow [Top](#home)"
   ]
  },
  {
   "cell_type": "markdown",
   "id": "fde5df1e",
   "metadata": {},
   "source": [
    "<a id='comp_oper'></a>\n",
    "\n",
    "### Comparison Operators [Top](#home)"
   ]
  },
  {
   "cell_type": "code",
   "execution_count": null,
   "id": "42880ff4",
   "metadata": {},
   "outputs": [],
   "source": [
    "print(1 > 2)\n",
    "print(1 < 2)\n",
    "print(1 == 1)\n",
    "print(2 != 1)\n",
    "print(1 >= 0.5)\n",
    "print(1 <= 2)"
   ]
  },
  {
   "cell_type": "code",
   "execution_count": null,
   "id": "c5406a5b",
   "metadata": {},
   "outputs": [],
   "source": [
    "print(\"Python\" == \"python\")"
   ]
  },
  {
   "cell_type": "code",
   "execution_count": null,
   "id": "635c8ea9",
   "metadata": {},
   "outputs": [],
   "source": [
    "ord(\"p\")"
   ]
  },
  {
   "cell_type": "code",
   "execution_count": null,
   "id": "1ac2b913",
   "metadata": {},
   "outputs": [],
   "source": [
    "ord(\"P\")"
   ]
  },
  {
   "cell_type": "markdown",
   "id": "4cfab943",
   "metadata": {},
   "source": [
    "<img src=\"Ascii_code_Table.jpg\">"
   ]
  },
  {
   "cell_type": "markdown",
   "id": "b56deb31",
   "metadata": {},
   "source": [
    "<a id='conditional_state'></a>\n",
    "\n",
    "### Conditional Statements [Top](#home)"
   ]
  },
  {
   "cell_type": "code",
   "execution_count": null,
   "id": "72f0bdac",
   "metadata": {},
   "outputs": [],
   "source": [
    "point = int(input('Please enter your point :'))\n",
    "# point > 55 : Success \n",
    "# point = 55 : Invite to interview \n",
    "# point < 55 : Fail \n",
    "\n",
    "if point > 55 :\n",
    "    print('Success')\n",
    "elif point == 55 : \n",
    "    print('Invite to interview')\n",
    "else :\n",
    "    print('Fail')"
   ]
  },
  {
   "cell_type": "markdown",
   "id": "76e1a56d",
   "metadata": {},
   "source": [
    "<a id='ternary_op'></a>\n",
    "\n",
    "### Ternary Operator [Top](#home)"
   ]
  },
  {
   "cell_type": "code",
   "execution_count": null,
   "id": "83486250",
   "metadata": {},
   "outputs": [],
   "source": [
    "point = 25\n",
    "if point >= 55 :\n",
    "    print('Success')\n",
    "else : \n",
    "    print('Fail')"
   ]
  },
  {
   "cell_type": "code",
   "execution_count": null,
   "id": "466b67de",
   "metadata": {},
   "outputs": [],
   "source": [
    "point = int(input('Please enter your point :'))\n",
    "print('Success' if point >= 55 else 'Fail' )"
   ]
  },
  {
   "cell_type": "markdown",
   "id": "30931a4d",
   "metadata": {},
   "source": [
    "<a id='logical_op'></a>\n",
    "\n",
    "### Logical Operators [Top](#home)"
   ]
  },
  {
   "cell_type": "markdown",
   "id": "3dd869c5",
   "metadata": {},
   "source": [
    "<img src='logical_op.png'>"
   ]
  },
  {
   "cell_type": "code",
   "execution_count": null,
   "id": "e8abe8f0",
   "metadata": {},
   "outputs": [],
   "source": [
    "point = int(input('Please enter your point :'))\n",
    "fund = bool(input('Do you have a fund (0: No, 1: Yes) :'))\n"
   ]
  },
  {
   "cell_type": "code",
   "execution_count": null,
   "id": "01538015",
   "metadata": {
    "scrolled": true
   },
   "outputs": [],
   "source": [
    "if (point >= 55) and (fund) :\n",
    "    print('Accepted')\n",
    "else :\n",
    "    print('Failed')"
   ]
  },
  {
   "cell_type": "markdown",
   "id": "52e2531a",
   "metadata": {},
   "source": [
    "<a id='for_loop'></a>\n",
    "\n",
    "### For Loops [Top](#home)"
   ]
  },
  {
   "cell_type": "code",
   "execution_count": null,
   "id": "3f7e7c91",
   "metadata": {},
   "outputs": [],
   "source": [
    "for number_of_try in range(3):\n",
    "    print('Try',number_of_try + 1)"
   ]
  },
  {
   "cell_type": "code",
   "execution_count": null,
   "id": "9639d263",
   "metadata": {},
   "outputs": [],
   "source": [
    "for i in range(1,11):\n",
    "    for j in range(1,11):\n",
    "        print(i * j, end = '\\t')\n",
    "    print(end = '\\n')"
   ]
  },
  {
   "cell_type": "code",
   "execution_count": null,
   "id": "7f185473",
   "metadata": {},
   "outputs": [],
   "source": [
    "for i in range(1,100,2):\n",
    "    print(i , end = '\\t')"
   ]
  },
  {
   "cell_type": "code",
   "execution_count": null,
   "id": "fe8e1826",
   "metadata": {},
   "outputs": [],
   "source": [
    "#For break continue\n",
    "\n",
    "\"\"\"\n",
    "Euler Problem 3:\n",
    "\n",
    "The prime factors of 13195 are 5, 7, 13 and 29. \n",
    "What is the largest prime factor 600851475143 ?\n",
    "\"\"\"\n",
    "def if_is_prime(n):\n",
    "    if n == 1:\n",
    "        return False\n",
    "    for i in range(2,n):\n",
    "        if n % i == 0:\n",
    "            return False\n",
    "            break\n",
    "    else:\n",
    "        return True"
   ]
  },
  {
   "cell_type": "code",
   "execution_count": null,
   "id": "e689a3f8",
   "metadata": {},
   "outputs": [],
   "source": [
    "number = 600851475143\n",
    "for i in range(1,10000):\n",
    "    if (number % i == 0) and (if_is_prime(i)):\n",
    "        print(i, end = '\\t')"
   ]
  },
  {
   "cell_type": "markdown",
   "id": "84ae1fbd",
   "metadata": {},
   "source": [
    "<a id='iter'></a>\n",
    "\n",
    "### Iterables [Top](#home)\n"
   ]
  },
  {
   "cell_type": "code",
   "execution_count": null,
   "id": "054b2ae3",
   "metadata": {},
   "outputs": [],
   "source": [
    "message = \"Welcome to Python Course\""
   ]
  },
  {
   "cell_type": "code",
   "execution_count": null,
   "id": "4aa4edd7",
   "metadata": {},
   "outputs": [],
   "source": [
    "for i in message:\n",
    "    print(i, end = '\\n')"
   ]
  },
  {
   "cell_type": "markdown",
   "id": "4cd68fd4",
   "metadata": {},
   "source": [
    "<a id='while_loop'></a>\n",
    "\n",
    "### While Loops [Top](#home)"
   ]
  },
  {
   "cell_type": "code",
   "execution_count": null,
   "id": "3199eb60",
   "metadata": {},
   "outputs": [],
   "source": [
    "command = \"\"\n",
    "\n",
    "while command != \"quit\":\n",
    "    command = input('> ')\n",
    "    print(':', command)"
   ]
  },
  {
   "cell_type": "code",
   "execution_count": null,
   "id": "70659e85",
   "metadata": {},
   "outputs": [],
   "source": [
    "# Infinite Loops\n",
    "while True:\n",
    "    command = input('> ')\n",
    "    print(':', command)\n",
    "    if command.lower() == \"quit\":\n",
    "        break"
   ]
  },
  {
   "cell_type": "markdown",
   "id": "b699b895",
   "metadata": {},
   "source": [
    "<a id='Functions'></a>\n",
    "\n",
    "## Functions [Top](#home)"
   ]
  },
  {
   "cell_type": "markdown",
   "id": "c91478b5",
   "metadata": {},
   "source": [
    "<a id='def_function'></a>\n",
    "\n",
    "### Defining Functions [Top](#home)"
   ]
  },
  {
   "cell_type": "code",
   "execution_count": null,
   "id": "88f19671",
   "metadata": {},
   "outputs": [],
   "source": [
    "def greet(first_name):\n",
    "    print('Welcome' , first_name)"
   ]
  },
  {
   "cell_type": "code",
   "execution_count": null,
   "id": "0df7b362",
   "metadata": {},
   "outputs": [],
   "source": [
    "greet('Shahin')"
   ]
  },
  {
   "cell_type": "code",
   "execution_count": null,
   "id": "13400f28",
   "metadata": {},
   "outputs": [],
   "source": [
    "list_of_first_name = ['Group 1','Group 2', 'Group 3']"
   ]
  },
  {
   "cell_type": "code",
   "execution_count": null,
   "id": "ca735f4c",
   "metadata": {},
   "outputs": [],
   "source": [
    "for name in list_of_first_name:\n",
    "    greet(name)"
   ]
  },
  {
   "cell_type": "code",
   "execution_count": null,
   "id": "a5e1bd73",
   "metadata": {},
   "outputs": [],
   "source": [
    "#Non return function\n",
    "def greet(name):\n",
    "    print(f\"Hi {name}\")"
   ]
  },
  {
   "cell_type": "code",
   "execution_count": null,
   "id": "8b280eb9",
   "metadata": {},
   "outputs": [],
   "source": [
    "greet('Shahin')"
   ]
  },
  {
   "cell_type": "code",
   "execution_count": null,
   "id": "bfe802c5",
   "metadata": {},
   "outputs": [],
   "source": [
    "#Return function\n",
    "def get_name(name):\n",
    "    return f\"Hi {name}\""
   ]
  },
  {
   "cell_type": "code",
   "execution_count": null,
   "id": "93e77e70",
   "metadata": {},
   "outputs": [],
   "source": [
    "get_name(\"Shahin\")"
   ]
  },
  {
   "cell_type": "code",
   "execution_count": null,
   "id": "d0e44768",
   "metadata": {},
   "outputs": [],
   "source": [
    "result_of_greet = greet('Shahin')\n",
    "result_of_get_name = get_name('Shahin')"
   ]
  },
  {
   "cell_type": "code",
   "execution_count": null,
   "id": "3a3f0b3c",
   "metadata": {},
   "outputs": [],
   "source": [
    "print(result_of_greet)\n",
    "print(result_of_get_name)"
   ]
  },
  {
   "cell_type": "code",
   "execution_count": null,
   "id": "80931f16",
   "metadata": {},
   "outputs": [],
   "source": [
    "def bmi_calculator(weight, height):\n",
    "    return round(weight/(height**2),2)\n",
    "bmi_calculator(weight=78,height=1.72)"
   ]
  },
  {
   "cell_type": "code",
   "execution_count": null,
   "id": "af863593",
   "metadata": {},
   "outputs": [],
   "source": [
    "def energy_potential(mass, height, gravity = 9.81):\n",
    "    return f'{mass*height*gravity} joules'"
   ]
  },
  {
   "cell_type": "code",
   "execution_count": null,
   "id": "c962166d",
   "metadata": {},
   "outputs": [],
   "source": [
    "e = energy_potential(78,25)\n",
    "print(e)"
   ]
  },
  {
   "cell_type": "code",
   "execution_count": null,
   "id": "e30e0ea3",
   "metadata": {},
   "outputs": [],
   "source": [
    "e = energy_potential(78,25,9.81)\n",
    "print(e)"
   ]
  },
  {
   "cell_type": "markdown",
   "id": "774a50d7",
   "metadata": {},
   "source": [
    "<a id='xargs'></a>\n",
    "\n",
    "### xargs in Functions [Top](#home)"
   ]
  },
  {
   "cell_type": "code",
   "execution_count": null,
   "id": "458717ea",
   "metadata": {},
   "outputs": [],
   "source": [
    "def multiply(*numbers):\n",
    "    result = 1\n",
    "    for number in numbers:\n",
    "        result *= number\n",
    "    return result"
   ]
  },
  {
   "cell_type": "code",
   "execution_count": null,
   "id": "7238a635",
   "metadata": {},
   "outputs": [],
   "source": [
    "print(multiply(1,2,3,4))"
   ]
  },
  {
   "cell_type": "markdown",
   "id": "97b7be4c",
   "metadata": {},
   "source": [
    "<a id='xxargs'></a>\n",
    "\n",
    "### xxargs in Functions [Top](#home)"
   ]
  },
  {
   "cell_type": "code",
   "execution_count": null,
   "id": "2cdf8008",
   "metadata": {},
   "outputs": [],
   "source": [
    "def user_info(**user):\n",
    "    return user\n",
    "user = user_info(id = 1, name = 'Shahin ABDI', age='29')"
   ]
  },
  {
   "cell_type": "code",
   "execution_count": null,
   "id": "8d4a6b9a",
   "metadata": {},
   "outputs": [],
   "source": [
    "print(user[\"id\"])\n",
    "print(user[\"name\"])\n",
    "print(user[\"age\"])"
   ]
  },
  {
   "cell_type": "code",
   "execution_count": null,
   "id": "1b07585b",
   "metadata": {},
   "outputs": [],
   "source": [
    "if user[\"id\"] == 1:\n",
    "    print(user[\"name\"])"
   ]
  },
  {
   "cell_type": "markdown",
   "id": "a2763409",
   "metadata": {},
   "source": [
    "<a id='data_structures'></a>\n",
    "\n",
    "## Data Structures [Top](#home)\n"
   ]
  },
  {
   "cell_type": "markdown",
   "id": "6f853c34",
   "metadata": {},
   "source": [
    "<a id='Lists'></a>\n",
    "\n",
    "### Lists [Top](#home)"
   ]
  },
  {
   "cell_type": "code",
   "execution_count": null,
   "id": "1bc59080",
   "metadata": {},
   "outputs": [],
   "source": [
    "list_of_cities = ['Paris', 'Berlin', 'Amesterdam', 'Rotterdam', 'NewYork']\n",
    "list_of_zipcodes = [75,25,63,17,10]\n",
    "zeros = [0]*5\n",
    "range_of_numbers = list(range(20))"
   ]
  },
  {
   "cell_type": "code",
   "execution_count": null,
   "id": "843676cd",
   "metadata": {},
   "outputs": [],
   "source": [
    "range_of_numbers"
   ]
  },
  {
   "cell_type": "code",
   "execution_count": null,
   "id": "cf30890b",
   "metadata": {},
   "outputs": [],
   "source": [
    "for i in range(len(list_of_cities)):\n",
    "    print(list_of_cities[i],list_of_zipcodes[i])"
   ]
  },
  {
   "cell_type": "code",
   "execution_count": null,
   "id": "0fd88f80",
   "metadata": {},
   "outputs": [],
   "source": [
    "# Unpacking List\n",
    "points = [20.03, 19.05, 18, 16.46, 15.20, 13.2, 12.4]"
   ]
  },
  {
   "cell_type": "code",
   "execution_count": null,
   "id": "a6c910b5",
   "metadata": {},
   "outputs": [],
   "source": [
    "first, second, third, forth, fifth, sixth, seventh = points"
   ]
  },
  {
   "cell_type": "code",
   "execution_count": null,
   "id": "2bb37c81",
   "metadata": {},
   "outputs": [],
   "source": [
    "first, second, *other = points"
   ]
  },
  {
   "cell_type": "code",
   "execution_count": null,
   "id": "d2d1ac48",
   "metadata": {},
   "outputs": [],
   "source": [
    "for point in points:\n",
    "    print(point)"
   ]
  },
  {
   "cell_type": "code",
   "execution_count": null,
   "id": "f82aee7b",
   "metadata": {},
   "outputs": [],
   "source": [
    "for point in enumerate(points):\n",
    "    print(point)"
   ]
  },
  {
   "cell_type": "code",
   "execution_count": null,
   "id": "1a47171c",
   "metadata": {},
   "outputs": [],
   "source": [
    "for point in enumerate(points):\n",
    "    print(point[0]+1, point[1])"
   ]
  },
  {
   "cell_type": "code",
   "execution_count": null,
   "id": "66d2df40",
   "metadata": {},
   "outputs": [],
   "source": [
    "points = [20.03, 19.05, 18, 16.46, 15.20, 13.2, 12.4]\n",
    "for index, point in enumerate(points):\n",
    "    print(index+1, point)"
   ]
  },
  {
   "cell_type": "code",
   "execution_count": null,
   "id": "9ed6198f",
   "metadata": {},
   "outputs": [],
   "source": [
    "# Add to List \n",
    "list_of_even_numbers = []\n",
    "for i in range(1,100):\n",
    "    if i % 2 == 0:\n",
    "        list_of_even_numbers.append(i)\n"
   ]
  },
  {
   "cell_type": "code",
   "execution_count": null,
   "id": "ec8dad4d",
   "metadata": {},
   "outputs": [],
   "source": [
    "print(list_of_even_numbers)"
   ]
  },
  {
   "cell_type": "code",
   "execution_count": null,
   "id": "8fb7eea4",
   "metadata": {},
   "outputs": [],
   "source": [
    "list_of_even_numbers.insert(len(list_of_even_numbers), 100)"
   ]
  },
  {
   "cell_type": "code",
   "execution_count": null,
   "id": "51db55f4",
   "metadata": {},
   "outputs": [],
   "source": [
    "print(list_of_even_numbers)"
   ]
  },
  {
   "cell_type": "code",
   "execution_count": null,
   "id": "2471b186",
   "metadata": {},
   "outputs": [],
   "source": [
    "list_of_even_numbers.pop(0)"
   ]
  },
  {
   "cell_type": "code",
   "execution_count": null,
   "id": "fd6aaa8c",
   "metadata": {},
   "outputs": [],
   "source": [
    "print(list_of_even_numbers)"
   ]
  },
  {
   "cell_type": "code",
   "execution_count": null,
   "id": "325c1186",
   "metadata": {},
   "outputs": [],
   "source": [
    "list_of_even_numbers.remove(60)"
   ]
  },
  {
   "cell_type": "code",
   "execution_count": null,
   "id": "9c05f28c",
   "metadata": {},
   "outputs": [],
   "source": [
    "print(list_of_even_numbers)"
   ]
  },
  {
   "cell_type": "code",
   "execution_count": null,
   "id": "6ae86714",
   "metadata": {},
   "outputs": [],
   "source": [
    "del list_of_even_numbers[5:8]\n",
    "print(list_of_even_numbers)"
   ]
  },
  {
   "cell_type": "code",
   "execution_count": null,
   "id": "d9148553",
   "metadata": {},
   "outputs": [],
   "source": [
    "list_of_first_five = [1,2,3,4,5]\n",
    "list_of_second_five = [6,7,8,9,10]"
   ]
  },
  {
   "cell_type": "code",
   "execution_count": null,
   "id": "063ae9a3",
   "metadata": {},
   "outputs": [],
   "source": [
    "list_of_first_five.extend(list_of_second_five)"
   ]
  },
  {
   "cell_type": "code",
   "execution_count": null,
   "id": "10ab52e0",
   "metadata": {},
   "outputs": [],
   "source": [
    "list_of_first_five"
   ]
  },
  {
   "cell_type": "markdown",
   "id": "0900d346",
   "metadata": {},
   "source": [
    "#### Lambda"
   ]
  },
  {
   "cell_type": "code",
   "execution_count": null,
   "id": "451df8e1",
   "metadata": {},
   "outputs": [],
   "source": [
    "items = [\n",
    "    (\"Product1\", 10),\n",
    "    (\"Product2\", 12),\n",
    "    (\"Product3\", 5)\n",
    "]\n",
    "def sort_item(item):\n",
    "    return item[1]\n",
    "items.sort(key=sort_item)\n",
    "print(items)"
   ]
  },
  {
   "cell_type": "code",
   "execution_count": null,
   "id": "3b8f60f7",
   "metadata": {},
   "outputs": [],
   "source": [
    "# Lambda function\n",
    "items.sort(key = lambda item:item[1])\n",
    "print(items)"
   ]
  },
  {
   "cell_type": "code",
   "execution_count": null,
   "id": "79b40e4b",
   "metadata": {},
   "outputs": [],
   "source": [
    "# Map\n",
    "for item in map(lambda item:item[1], items):\n",
    "    print(item)"
   ]
  },
  {
   "cell_type": "code",
   "execution_count": null,
   "id": "65df4bdf",
   "metadata": {},
   "outputs": [],
   "source": [
    "list_of_cities = ['Paris', 'Berlin', 'Amesterdam', 'Rotterdam', 'NewYork']\n",
    "list_of_zipcodes = [75,25,63,17,10]"
   ]
  },
  {
   "cell_type": "code",
   "execution_count": null,
   "id": "064e06ff",
   "metadata": {},
   "outputs": [],
   "source": [
    "for city, zipcode in zip(list_of_cities, list_of_zipcodes):\n",
    "    print(city, zipcode)"
   ]
  },
  {
   "cell_type": "code",
   "execution_count": null,
   "id": "bb7b013f",
   "metadata": {},
   "outputs": [],
   "source": [
    "# List comperhension\n",
    "list_of_even_number = [i for i in range(1,100)  if i % 2 ==0]"
   ]
  },
  {
   "cell_type": "code",
   "execution_count": null,
   "id": "55562f2c",
   "metadata": {},
   "outputs": [],
   "source": [
    "print(list_of_even_number)"
   ]
  },
  {
   "cell_type": "markdown",
   "id": "f805c542",
   "metadata": {},
   "source": [
    "<a id='Tuples'></a>\n",
    "\n",
    "### Tuples [Top](#home)"
   ]
  },
  {
   "cell_type": "code",
   "execution_count": null,
   "id": "fb352157",
   "metadata": {},
   "outputs": [],
   "source": [
    "list_of_constants = (6.31e-34, 3e+8 ,6.67e-11)\n",
    "list_of_const_names = (\"h\", \"c\", \"g\")"
   ]
  },
  {
   "cell_type": "code",
   "execution_count": null,
   "id": "8c236659",
   "metadata": {},
   "outputs": [],
   "source": [
    "for name, const in zip(list_of_const_names,list_of_constants):\n",
    "    print(name, const)"
   ]
  },
  {
   "cell_type": "markdown",
   "id": "460b5f00",
   "metadata": {},
   "source": [
    "<a id='Sets'></a>\n",
    "\n",
    "### Sets [Top](#home)"
   ]
  },
  {
   "cell_type": "code",
   "execution_count": null,
   "id": "9491dbdc",
   "metadata": {},
   "outputs": [],
   "source": [
    "numbers = [1, 1, 2, 3, 4, 5, 6, 8, 4, 2]\n",
    "set_of_numbers = set(numbers)\n",
    "second_set = {1,9}"
   ]
  },
  {
   "cell_type": "code",
   "execution_count": null,
   "id": "42aee549",
   "metadata": {},
   "outputs": [],
   "source": [
    "print(set_of_numbers)"
   ]
  },
  {
   "cell_type": "code",
   "execution_count": null,
   "id": "9e444d21",
   "metadata": {},
   "outputs": [],
   "source": [
    "print(set_of_numbers | second_set) #Union\n",
    "print(set_of_numbers & second_set) #Intersection\n",
    "print(set_of_numbers - second_set) #Difference \n",
    "print(set_of_numbers ^ second_set) #Symetric difference \n",
    "\n"
   ]
  }
 ],
 "metadata": {
  "kernelspec": {
   "display_name": "Python 3",
   "language": "python",
   "name": "python3"
  },
  "language_info": {
   "codemirror_mode": {
    "name": "ipython",
    "version": 3
   },
   "file_extension": ".py",
   "mimetype": "text/x-python",
   "name": "python",
   "nbconvert_exporter": "python",
   "pygments_lexer": "ipython3",
   "version": "3.8.8"
  }
 },
 "nbformat": 4,
 "nbformat_minor": 5
}
